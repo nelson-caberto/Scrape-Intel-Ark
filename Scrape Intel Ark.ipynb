{
 "cells": [
  {
   "cell_type": "code",
   "execution_count": 2,
   "metadata": {},
   "outputs": [],
   "source": [
    "from bs4 import BeautifulSoup as bs\n",
    "from splinter import Browser\n",
    "import requests\n",
    "import time\n",
    "import pymongo"
   ]
  },
  {
   "cell_type": "code",
   "execution_count": 3,
   "metadata": {},
   "outputs": [],
   "source": [
    "executable_path = {'executable_path': 'chromedriver.exe'}\n",
    "browser = Browser('chrome', **executable_path, headless=True)"
   ]
  },
  {
   "cell_type": "code",
   "execution_count": 18,
   "metadata": {},
   "outputs": [],
   "source": [
    "url = 'https://ark.intel.com/content/www/us/en/ark.html#@Processors'\n",
    "baseurl = 'https://ark.intel.com/'\n",
    "\n",
    "browser.visit(url)\n",
    "\n",
    "rootHTML = bs(browser.html, 'html.parser')"
   ]
  },
  {
   "cell_type": "code",
   "execution_count": 5,
   "metadata": {},
   "outputs": [],
   "source": [
    "conn = 'mongodb://localhost:27017'\n",
    "client = pymongo.MongoClient(conn)"
   ]
  },
  {
   "cell_type": "code",
   "execution_count": 6,
   "metadata": {},
   "outputs": [],
   "source": [
    "db = client.IntelScrape\n",
    "collection = db.items"
   ]
  },
  {
   "cell_type": "code",
   "execution_count": 19,
   "metadata": {},
   "outputs": [
    {
     "name": "stdout",
     "output_type": "stream",
     "text": [
      "i9-10980XE i9-10940X i9-10920X i9-10900X i9-9980XE i9-9960X i9-9940X i9-9920X i9-9900X i9-9820X i7-9800X i9-7980XE i9-7960X i9-7940X i9-7920X i9-7900X i7-7820X i7-7800X i7-7740X i5-7640X i7-6950X i7-6900K i7-6850K i7-6800K i7-5960X i7-5930K i7-5820K i7-4960X i7-4940MX i7-4930K i7-4930MX i7-4820K i7-3970X i7-3960X i7-3940XM i7-3930K i7-3920XM i7-3820 i7-1065G7 i7-1060G7 i7-10710U i7-10510U i7-10510Y i5-1035G7 i5-1030G7 i5-1035G4 i5-1030G4 i5-1035G1 i5-10210U i5-10310Y i5-10210Y i3-1000G4 i3-1005G1 i3-1000G1 i3-10110U i3-10110Y i9-9980HK i9-9880H i9-9900T i9-9900KF i9-9900K i9-9900 i7-9850HL i7-9850HE i7-9850H i7-9750HF i7-9750H i7-9700TE i7-9700T i7-9700KF i7-9700K i7-9700F i7-9700E i7-9700 i5-9600T i5-9600K i5-9600KF i5-9600 i5-9500TE i5-9500T i5-9500F i5-9500E i5-9500 i5-9400F i5-9400T i5-9400H i5-9400 i5-9300H i3-9350KF i3-9350K i3-9320 i3-9300T i3-9300 i3-9100TE i3-9100T i3-9100HL i3-9100F i3-9100E i3-9100 i9-8950HK i7-8665UE i7-8665U i7-8557U i7-8850H i7-8809G i7-8750H i7-8709G i7-8706G i7-8706G i7-8705G i7-8700T i7-8700K i7-8700B i7-8700 i7-8700 i7-8569U i7-8650U i7-8565U i7-8559U i7-8550U i7-8500Y i7-8086K i5-8600T i5-8600K i5-8600 i5-8500T i5-8500B i5-8500 i5-8500 i5-8400T i5-8400H i5-8400B i5-8400 i5-8400 i5-8365UE i5-8365U i5-8350U i5-8310Y i5-8305G i5-8305G i5-8300H i5-8279U i5-8269U i5-8265U i5-8259U i5-8257U i5-8250U i5-8210Y i5-8200Y i3-8350K i3-8300 i3-8300T i3-8145UE i3-8145U i3-8130U i3-8109U i3-8100H i3-8100B i3-8100 i3-8100T m3-8100Y i7-7920HQ i7-7820HQ i7-7820HK i7-7820EQ i7-7700HQ i7-7700 i7-7700K i7-7700T i7-7660U i7-7600U i7-7567U i7-7560U i7-7500U i7-7Y75 i5-7600K i5-7600T i5-7600 i5-7500 i5-7500T i5-7442EQ i5-7440HQ i5-7440EQ i5-7400T i5-7400 i5-7360U i5-7300U i5-7300HQ i5-7287U i5-7267U i5-7260U i5-7200U i5-7Y54 i5-7Y57 i3-7350K i3-7320 i3-7300 i3-7300T i3-7130U i3-7102E i3-7101E i3-7101TE i3-7100T i3-7100E i3-7100 i3-7167U i3-7100U i3-7100H i3-7020U M3-7Y32 M3-7Y30 i7-6970HQ i7-6920HQ i7-6870HQ i7-6822EQ i7-6820HQ i7-6820HK i7-6820EQ i7-6785R i7-6700K i7-6700T i7-6700TE i7-6700 i7-6770HQ i7-6700HQ i7-6660U i7-6650U i7-6600U i7-6567U i7-6560U i7-6500U i5-6600 i5-6685R i5-6600K i5-6600T i5-6585R i5-6500 i5-6500T i5-6500TE i5-6402P i5-6400 i5-6400T i5-6440EQ i5-6440HQ i5-6442EQ i5-6360U i5-6350HQ i5-6300HQ i5-6300U i5-6200U i5-6260U i5-6267U i5-6287U i3-6300 i3-6300T i3-6320 i3-6100E i3-6100H i3-6100U i3-6102E i3-6157U i3-6167U i3-6100 i3-6100T i3-6100TE i3-6006U i3-6098P M7-6Y75 M5-6Y57 M5-6Y54 M3-6Y30 i7-5950HQ i7-5850HQ i7-5850EQ i7-5750HQ i7-5700EQ i7-5700HQ i7-5775R i7-5775C i7-5650U i7-5600U i7-5557U i7-5550U i7-5500U i5-5675R i5-5675C i5-5575R i5-5350U i5-5350H i5-5300U i5-5287U i5-5257U i5-5250U i5-5200U i3-5157U i3-5020U i3-5015U i3-5010U i3-5005U 5Y71 5Y70 5Y51 5Y31 5Y10c 5Y10a 5Y10 i7-4900MQ i7-4910MQ i7-4950HQ i7-4960HQ i7-4980HQ i7-4800MQ i7-4810MQ i7-4850HQ i7-4860HQ i7-4870HQ i7-4700EC i7-4700EQ i7-4700HQ i7-4700MQ i7-4702EC i7-4702HQ i7-4702MQ i7-4710HQ i7-4710MQ i7-4712HQ i7-4712MQ i7-4720HQ i7-4722HQ i7-4750HQ i7-4760HQ i7-4770HQ i7-4790K i7-4770K i7-4765T i7-4770 i7-4770R i7-4770S i7-4770T i7-4770TE i7-4771 i7-4785T i7-4790 i7-4790S i7-4790T i7-4600M i7-4600U i7-4610M i7-4610Y i7-4650U i7-4500U i7-4510U i7-4550U i7-4558U i7-4578U i5-4670 i5-4670K i5-4670R i5-4670S i5-4670T i5-4690 i5-4690K i5-4690S i5-4690T i5-4570 i5-4570R i5-4570S i5-4570T i5-4570TE i5-4590 i5-4590S i5-4590T i5-4422E i5-4410E i5-4402EC i5-4402E i5-4400E i5-4460T i5-4460S i5-4460 i5-4440S i5-4440 i5-4430S i5-4430 i5-4300M i5-4300U i5-4300Y i5-4302Y i5-4308U i5-4310M i5-4310U i5-4330M i5-4340M i5-4350U i5-4360U i5-4200H i5-4200M i5-4200U i5-4200Y i5-4202Y i5-4210H i5-4210M i5-4210U i5-4210Y i5-4220Y i5-4250U i5-4258U i5-4260U i5-4278U i5-4288U i3-4330 i3-4330T i3-4330TE i3-4340 i3-4340TE i3-4350 i3-4350T i3-4360 i3-4360T i3-4370 i3-4370T i3-4100E i3-4100M i3-4100U i3-4102E i3-4110E i3-4110M i3-4112E i3-4120U i3-4158U i3-4170T i3-4170 i3-4160T i3-4160 i3-4150T i3-4150 i3-4130T i3-4130 i3-4000M i3-4005U i3-4010U i3-4010Y i3-4012Y i3-4020Y i3-4025U i3-4030U i3-4030Y i7-2960XM i7-2920XM i7-990X i7-980X i7-975 i7-965 i7-940XM i7-920XM X9100 X9000 X7900 X7800 X6800 QX9775 QX9770 QX9650 QX9300 QX6850 QX6800 QX6700 i7-3840QM i7-3820QM i7-3770T i7-3770S i7-3770K i7-3770 i7-3740QM i7-3720QM i7-3689Y i7-3687U i7-3667U i7-3635QM i7-3632QM i7-3632QM i7-3630QM i7-3615QM i7-3615QE i7-3612QM i7-3612QM i7-3612QE i7-3610QM i7-3610QE i7-3555LE i7-3540M i7-3537U i7-3520M i7-3517UE i7-3517U i5-3610ME i5-3570S i5-3570T i5-3570K i5-3570 i5-3550S i5-3550 i5-3475S i5-3470T i5-3470S i5-3470 i5-3450S i5-3450 i5-3439Y i5-3437U i5-3427U i5-3380M i5-3360M i5-3350P i5-3340S i5-3340M i5-3340 i5-3339Y i5-3337U i5-3330S i5-3330 i5-3320M i5-3317U i5-3230M i5-3230M i5-3210M i5-3210M i3-3250T i3-3250 i3-3245 i3-3240T i3-3240 i3-3229Y i3-3227U i3-3225 i3-3220T i3-3220 i3-3217UE i3-3217U i3-3210 i3-3130M i3-3120ME i3-3120M i3-3115C i3-3110M i7-2860QM i7-2820QM i7-2760QM i7-2720QM i7-2715QE i7-2710QE i7-2700K i7-2677M i7-2670QM i7-2675QM i7-2657M i7-2655LE i7-2649M i7-2640M i7-2637M i7-2635QM i7-2630QM i7-2629M i7-2620M i7-2617M i7-2610UE i7-2600S i7-2600K i7-2600 i5-2557M i5-2550K i5-2540M i5-2537M i5-2520M i5-2515E i5-2510E i5-2500T i5-2500S i5-2500K i5-2500 i5-2467M i5-2450P i5-2450M i5-2435M i5-2430M i5-2410M i5-2405S i5-2400S i5-2400 i5-2390T i5-2380P i5-2320 i5-2310 i5-2300 i3-2377M i3-2375M i3-2370M i3-2367M i3-2365M i3-2357M i3-2350M i3-2348M i3-2340UE i3-2330M i3-2330E i3-2328M i3-2312M i3-2310M i3-2310E i3-2130 i3-2125 i3-2120T i3-2120 i3-2115C i3-2105 i3-2102 i3-2100T i3-2100 i7-980 i7-970 i7-960 i7-950 i7-940 i7-930 i7-920 i7-880 i7-875K i7-870S i7-870 i7-860S i7-860 i7-840QM i7-820QM i7-740QM i7-720QM i7-680UM i7-660UM i7-660UE i7-660LM i7-640UM i7-640M i7-640LM i7-620UM i7-620UE i7-620M i7-620LM i7-620LE i7-610E i5-760 i5-750S i5-750 i5-680 i5-670 i5-661 i5-660 i5-655K i5-650 i5-580M i5-560UM i5-560M i5-540UM i5-540M i5-520UM i5-520M i5-520E i5-480M i5-470UM i5-460M i5-450M i5-430UM i5-430M i3-560 i3-550 i3-540 i3-530 i3-390M i3-380UM i3-380M i3-370M i3-350M i3-330UM i3-330M i3-330E Q9650 Q9550S Q9550 Q9505S Q9505 Q9500 Q9450 Q9400S Q9400 Q9300 Q9100 Q9000 Q8400S Q8400 Q8300 Q8200S Q8200 Q6700 Q6600 E8600 E8500 E8400 E8300 E8200 E8190 E7600 E7500 E7400 E7300 E7200 E6850 E6750 E6700 E6600 E6550 E6540 E6420 E6320 E6400 E6300 E4700 E4600 E4500 E4400 E4300 L7700 L7500 L7400 L7300 L7200 L2400 L2300 L2500 P9700 P9600 P9500 P8800 P8700 P8600 P8400 P7570 P7550 P7450 P7370 P7350 SL9300 SL9600 SL9400 SL9380 SP9600 SP9400 SP9300 SU9600 SU9400 SU9300 T9900 T9800 T9600 T9550 T9500 T9400 T9300 T7800 T8300 T8100 T7700 T7600 T7500 T7400 T7300 T7250 T7200 T7100 T6670 T6600 T6500 T6400 T5870 T5800 T5750 T5670 T5600 T5550 T5500 T5470 T5450 T5300 T5270 T5250 T2700 T5200 T2600 T2500 T2450 T2400 T2350 T2300E T2300 T2250 T2050 U7700 U7600 U7600 U7500 U7500 U2500 U2400 SU3300 SU3500 U2200 U2100 U1500 U1400 U1300 T1400 T1350 T1300 T1250 SU3500 "
     ]
    }
   ],
   "source": [
    "for link in bs(browser.html, 'html.parser').\\\n",
    "    find_all('div', {'data-parent-panel-key':'PanelLabel122139'})[0].\\\n",
    "    find_all('a'):\n",
    "    browser.visit(baseurl+link['href'])\n",
    "    time.sleep(1)\n",
    "    for td in bs(browser.html, 'html.parser').find_all('td', class_='ark-product-name'):\n",
    "        browser.visit(baseurl+td.a['href'])\n",
    "        time.sleep(1)\n",
    "        data = {}\n",
    "        for c in bs(browser.html, 'html.parser').\\\n",
    "            find_all('div', class_='arkProductSpecifications')[0].\\\n",
    "            find_all('span', class_=['label','value']):\n",
    "            if c['class'][0] == 'label':\n",
    "                temp = c.text.strip().replace('.','_')\n",
    "            else:\n",
    "                data[temp] = c.text.strip()\n",
    "        collection.insert_one(data)\n",
    "        print(data['Processor Number'], end=' ')"
   ]
  },
  {
   "cell_type": "code",
   "execution_count": 21,
   "metadata": {},
   "outputs": [],
   "source": [
    "browser.quit()"
   ]
  },
  {
   "cell_type": "code",
   "execution_count": 42,
   "metadata": {},
   "outputs": [],
   "source": [
    "import csv\n",
    "with open('IntelArk.csv','w',newline='') as csvfile:\n",
    "    cols = []\n",
    "    data = db.items.find()\n",
    "    for i in data:\n",
    "        cols.extend([x for x in i.keys() if x not in cols])\n",
    "    cols.remove('_id')\n",
    "    \n",
    "    writer = csv.DictWriter(csvfile, cols)\n",
    "    writer.writeheader()\n",
    "    for i in data:\n",
    "        i.pop('_id')\n",
    "        writer.writerow(i)"
   ]
  },
  {
   "cell_type": "code",
   "execution_count": null,
   "metadata": {},
   "outputs": [],
   "source": []
  },
  {
   "cell_type": "code",
   "execution_count": null,
   "metadata": {},
   "outputs": [],
   "source": []
  },
  {
   "cell_type": "code",
   "execution_count": null,
   "metadata": {},
   "outputs": [],
   "source": []
  }
 ],
 "metadata": {
  "kernelspec": {
   "display_name": "Python 3",
   "language": "python",
   "name": "python3"
  },
  "language_info": {
   "codemirror_mode": {
    "name": "ipython",
    "version": 3
   },
   "file_extension": ".py",
   "mimetype": "text/x-python",
   "name": "python",
   "nbconvert_exporter": "python",
   "pygments_lexer": "ipython3",
   "version": "3.7.3"
  }
 },
 "nbformat": 4,
 "nbformat_minor": 2
}
