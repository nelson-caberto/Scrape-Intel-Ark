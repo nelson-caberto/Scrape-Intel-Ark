{
 "cells": [
  {
   "cell_type": "code",
   "execution_count": null,
   "metadata": {},
   "outputs": [],
   "source": [
    "from bs4 import BeautifulSoup as bs\n",
    "from splinter import Browser\n",
    "import time\n",
    "import pymongo"
   ]
  },
  {
   "cell_type": "code",
   "execution_count": null,
   "metadata": {},
   "outputs": [],
   "source": [
    "executable_path = {'executable_path': 'chromedriver.exe'}\n",
    "browser = Browser('chrome', **executable_path, headless=True)"
   ]
  },
  {
   "cell_type": "code",
   "execution_count": null,
   "metadata": {},
   "outputs": [],
   "source": [
    "scrapable = ['Processors', 'Chipsets']\n",
    "scrape = scrapable[0]"
   ]
  },
  {
   "cell_type": "code",
   "execution_count": null,
   "metadata": {},
   "outputs": [],
   "source": [
    "url = 'https://ark.intel.com/content/www/us/en/ark.html#@'+scrape\n",
    "csvfilename = f'IntelArk{scrape}.csv'\n",
    "baseurl = 'https://ark.intel.com/'\n",
    "\n",
    "browser.visit(url)\n",
    "\n",
    "rootHTML = bs(browser.html, 'html.parser')"
   ]
  },
  {
   "cell_type": "code",
   "execution_count": null,
   "metadata": {},
   "outputs": [],
   "source": [
    "conn = 'mongodb://localhost:27017'\n",
    "client = pymongo.MongoClient(conn)"
   ]
  },
  {
   "cell_type": "code",
   "execution_count": null,
   "metadata": {},
   "outputs": [],
   "source": [
    "db = client.IntelScrape\n",
    "collection = db.items"
   ]
  },
  {
   "cell_type": "code",
   "execution_count": null,
   "metadata": {},
   "outputs": [],
   "source": [
    "for div in rootHTML.find_all('div', scrape):\n",
    "    for link in rootHTML.\\\n",
    "        find_all('div', {'data-parent-panel-key':div['data-panel-key']})[0].\\\n",
    "        find_all('a'):\n",
    "        browser.visit(baseurl+link['href'])\n",
    "        time.sleep(1)\n",
    "        for td in bs(browser.html, 'html.parser').find_all('td', class_='ark-product-name'):\n",
    "            browser.visit(baseurl+td.a['href'])\n",
    "            time.sleep(1)\n",
    "            data = {'scrape':scrape}\n",
    "            try:\n",
    "                for c in bs(browser.html, 'html.parser').\\\n",
    "                    find_all('div', class_='arkProductSpecifications')[0].\\\n",
    "                    find_all('span', class_=['label','value']):\n",
    "                    if c['class'][0] == 'label':\n",
    "                        temp = c.text.strip().replace('.','_')\n",
    "                    else:\n",
    "                        data[temp] = c.text.strip()\n",
    "            except:\n",
    "                print('failed '+link['href'])\n",
    "                continue\n",
    "            collection.insert_one(data)\n",
    "            print(td.a.text, end='; ')"
   ]
  },
  {
   "cell_type": "code",
   "execution_count": null,
   "metadata": {},
   "outputs": [],
   "source": [
    "browser.quit()"
   ]
  },
  {
   "cell_type": "code",
   "execution_count": null,
   "metadata": {},
   "outputs": [],
   "source": [
    "import csv\n",
    "with open(csvfilename,'w',newline='') as csvfile:\n",
    "    cols = []\n",
    "    data = db.items.find({'scrape':{'$eq':scrape}})\n",
    "    for i in data:\n",
    "        cols.extend([x for x in i.keys() if x not in cols])\n",
    "    cols.remove('_id')\n",
    "    cols.remove('scrape')\n",
    "    \n",
    "    writer = csv.DictWriter(csvfile, cols)\n",
    "    writer.writeheader()\n",
    "    for i in data.rewind():\n",
    "        i.pop('_id')\n",
    "        i.pop('scrape')\n",
    "        writer.writerow(i)"
   ]
  },
  {
   "cell_type": "code",
   "execution_count": null,
   "metadata": {},
   "outputs": [],
   "source": []
  }
 ],
 "metadata": {
  "kernelspec": {
   "display_name": "Python 3",
   "language": "python",
   "name": "python3"
  },
  "language_info": {
   "codemirror_mode": {
    "name": "ipython",
    "version": 3
   },
   "file_extension": ".py",
   "mimetype": "text/x-python",
   "name": "python",
   "nbconvert_exporter": "python",
   "pygments_lexer": "ipython3",
   "version": "3.7.3"
  }
 },
 "nbformat": 4,
 "nbformat_minor": 2
}
